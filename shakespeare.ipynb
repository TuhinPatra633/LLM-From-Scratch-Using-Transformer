{
 "cells": [
  {
   "cell_type": "markdown",
   "metadata": {},
   "source": [
    "# Imports\n"
   ]
  },
  {
   "cell_type": "code",
   "execution_count": 1,
   "metadata": {},
   "outputs": [],
   "source": [
    "%load_ext autoreload\n",
    "%autoreload 2"
   ]
  },
  {
   "cell_type": "code",
   "execution_count": 2,
   "metadata": {},
   "outputs": [
    {
     "name": "stdout",
     "output_type": "stream",
     "text": [
      "pytorch version: 2.5.1+cu124\n"
     ]
    },
    {
     "name": "stderr",
     "output_type": "stream",
     "text": [
      "sentencepiece_trainer.cc(78) LOG(INFO) Starts training with : \n",
      "trainer_spec {\n",
      "  input: /home/sysadm/Tuhin/LLM2_Updated/LLM2/data/aranyakanda_english.txt\n",
      "  input_format: \n",
      "  model_prefix: /home/sysadm/Tuhin/LLM2_Updated/LLM2/data/aranyakanda_english\n",
      "  model_type: BPE\n",
      "  vocab_size: 6000\n",
      "  self_test_sample_size: 0\n",
      "  character_coverage: 0.9995\n",
      "  input_sentence_size: 1000000\n",
      "  shuffle_input_sentence: 1\n",
      "  seed_sentencepiece_size: 1000000\n",
      "  shrinking_factor: 0.75\n",
      "  max_sentence_length: 4192\n",
      "  num_threads: 16\n",
      "  num_sub_iterations: 2\n",
      "  max_sentencepiece_length: 16\n",
      "  split_by_unicode_script: 1\n",
      "  split_by_number: 1\n",
      "  split_by_whitespace: 1\n",
      "  split_digits: 0\n",
      "  pretokenization_delimiter: \n",
      "  treat_whitespace_as_suffix: 0\n",
      "  allow_whitespace_only_pieces: 0\n",
      "  required_chars: \n",
      "  byte_fallback: 0\n",
      "  vocabulary_output_piece_score: 1\n",
      "  train_extremely_large_corpus: 0\n",
      "  seed_sentencepieces_file: \n",
      "  hard_vocab_limit: 1\n",
      "  use_all_vocab: 0\n",
      "  unk_id: 1\n",
      "  bos_id: 2\n",
      "  eos_id: 3\n",
      "  pad_id: 0\n",
      "  unk_piece: <unk>\n",
      "  bos_piece: <s>\n",
      "  eos_piece: </s>\n",
      "  pad_piece: <pad>\n",
      "  unk_surface:  ⁇ \n",
      "  enable_differential_privacy: 0\n",
      "  differential_privacy_noise_level: 0\n",
      "  differential_privacy_clipping_threshold: 0\n",
      "}\n",
      "normalizer_spec {\n",
      "  name: nmt_nfkc\n",
      "  add_dummy_prefix: 1\n",
      "  remove_extra_whitespaces: 1\n",
      "  escape_whitespaces: 1\n",
      "  normalization_rule_tsv: \n",
      "}\n",
      "denormalizer_spec {}\n",
      "trainer_interface.cc(353) LOG(INFO) SentenceIterator is not specified. Using MultiFileSentenceIterator.\n",
      "trainer_interface.cc(185) LOG(INFO) Loading corpus: /home/sysadm/Tuhin/LLM2_Updated/LLM2/data/aranyakanda_english.txt\n",
      "trainer_interface.cc(409) LOG(INFO) Loaded all 4284 sentences\n",
      "trainer_interface.cc(425) LOG(INFO) Adding meta_piece: <pad>\n",
      "trainer_interface.cc(425) LOG(INFO) Adding meta_piece: <unk>\n",
      "trainer_interface.cc(425) LOG(INFO) Adding meta_piece: <s>\n",
      "trainer_interface.cc(425) LOG(INFO) Adding meta_piece: </s>\n",
      "trainer_interface.cc(430) LOG(INFO) Normalizing sentences...\n",
      "trainer_interface.cc(539) LOG(INFO) all chars count=652370\n",
      "trainer_interface.cc(550) LOG(INFO) Done: 99.9571% characters are covered.\n",
      "trainer_interface.cc(560) LOG(INFO) Alphabet size=87\n",
      "trainer_interface.cc(561) LOG(INFO) Final character coverage=0.999571\n",
      "trainer_interface.cc(592) LOG(INFO) Done! preprocessed 4284 sentences.\n",
      "trainer_interface.cc(598) LOG(INFO) Tokenizing input sentences with whitespace: 4284\n",
      "trainer_interface.cc(609) LOG(INFO) Done! 13920\n",
      "bpe_model_trainer.cc(159) LOG(INFO) Updating active symbols. max_freq=14756 min_freq=1\n",
      "bpe_model_trainer.cc(268) LOG(INFO) Added: freq=4018 size=20 all=1546 active=1458 piece=▁t\n",
      "bpe_model_trainer.cc(268) LOG(INFO) Added: freq=2421 size=40 all=2410 active=2322 piece=▁l\n",
      "bpe_model_trainer.cc(268) LOG(INFO) Added: freq=1435 size=60 all=3162 active=3074 piece=▁Rama\n",
      "bpe_model_trainer.cc(268) LOG(INFO) Added: freq=1080 size=80 all=3639 active=3551 piece=ds\n",
      "bpe_model_trainer.cc(268) LOG(INFO) Added: freq=887 size=100 all=4209 active=4121 piece=ul\n",
      "bpe_model_trainer.cc(159) LOG(INFO) Updating active symbols. max_freq=886 min_freq=61\n",
      "bpe_model_trainer.cc(268) LOG(INFO) Added: freq=693 size=120 all=4857 active=1602 piece=od\n",
      "bpe_model_trainer.cc(268) LOG(INFO) Added: freq=564 size=140 all=5345 active=2090 piece=ther\n",
      "bpe_model_trainer.cc(268) LOG(INFO) Added: freq=492 size=160 all=5718 active=2463 piece=ish\n",
      "bpe_model_trainer.cc(268) LOG(INFO) Added: freq=421 size=180 all=6062 active=2807 piece=ath\n",
      "bpe_model_trainer.cc(268) LOG(INFO) Added: freq=352 size=200 all=6508 active=3253 piece=▁said\n",
      "bpe_model_trainer.cc(159) LOG(INFO) Updating active symbols. max_freq=351 min_freq=58\n",
      "bpe_model_trainer.cc(268) LOG(INFO) Added: freq=320 size=220 all=6832 active=1325 piece=▁Vis\n",
      "bpe_model_trainer.cc(268) LOG(INFO) Added: freq=290 size=240 all=7142 active=1635 piece=▁r\n",
      "bpe_model_trainer.cc(268) LOG(INFO) Added: freq=270 size=260 all=7492 active=1985 piece=ate\n",
      "bpe_model_trainer.cc(268) LOG(INFO) Added: freq=250 size=280 all=7835 active=2328 piece=ell\n",
      "bpe_model_trainer.cc(268) LOG(INFO) Added: freq=226 size=300 all=8101 active=2594 piece=▁ear\n",
      "bpe_model_trainer.cc(159) LOG(INFO) Updating active symbols. max_freq=225 min_freq=49\n",
      "bpe_model_trainer.cc(268) LOG(INFO) Added: freq=209 size=320 all=8410 active=1302 piece=▁bow\n",
      "bpe_model_trainer.cc(268) LOG(INFO) Added: freq=197 size=340 all=8604 active=1496 piece=ach\n",
      "bpe_model_trainer.cc(268) LOG(INFO) Added: freq=184 size=360 all=8843 active=1735 piece=eous\n",
      "bpe_model_trainer.cc(268) LOG(INFO) Added: freq=173 size=380 all=9002 active=1894 piece=aving\n",
      "bpe_model_trainer.cc(268) LOG(INFO) Added: freq=161 size=400 all=9161 active=2053 piece=rin\n",
      "bpe_model_trainer.cc(159) LOG(INFO) Updating active symbols. max_freq=161 min_freq=44\n",
      "bpe_model_trainer.cc(268) LOG(INFO) Added: freq=155 size=420 all=9330 active=1159 piece=ings\n",
      "bpe_model_trainer.cc(268) LOG(INFO) Added: freq=150 size=440 all=9483 active=1312 piece=ng\n",
      "bpe_model_trainer.cc(268) LOG(INFO) Added: freq=142 size=460 all=9689 active=1518 piece=ran\n",
      "bpe_model_trainer.cc(268) LOG(INFO) Added: freq=138 size=480 all=9912 active=1741 piece=ण्डे\n",
      "bpe_model_trainer.cc(268) LOG(INFO) Added: freq=136 size=500 all=9960 active=1789 piece=स्स\n",
      "bpe_model_trainer.cc(159) LOG(INFO) Updating active symbols. max_freq=136 min_freq=39\n",
      "bpe_model_trainer.cc(268) LOG(INFO) Added: freq=134 size=520 all=10017 active=1052 piece=्म\n",
      "bpe_model_trainer.cc(268) LOG(INFO) Added: freq=131 size=540 all=10085 active=1120 piece=▁even\n",
      "bpe_model_trainer.cc(268) LOG(INFO) Added: freq=125 size=560 all=10238 active=1273 piece=lds\n",
      "bpe_model_trainer.cc(268) LOG(INFO) Added: freq=119 size=580 all=10387 active=1422 piece=▁daught\n",
      "bpe_model_trainer.cc(268) LOG(INFO) Added: freq=113 size=600 all=10570 active=1605 piece=▁away\n",
      "bpe_model_trainer.cc(159) LOG(INFO) Updating active symbols. max_freq=113 min_freq=35\n",
      "bpe_model_trainer.cc(268) LOG(INFO) Added: freq=108 size=620 all=10763 active=1194 piece=▁deer\n",
      "bpe_model_trainer.cc(268) LOG(INFO) Added: freq=103 size=640 all=10871 active=1302 piece=wards\n",
      "bpe_model_trainer.cc(268) LOG(INFO) Added: freq=101 size=660 all=11028 active=1459 piece=▁without\n",
      "bpe_model_trainer.cc(268) LOG(INFO) Added: freq=96 size=680 all=11154 active=1585 piece=▁both\n",
      "bpe_model_trainer.cc(268) LOG(INFO) Added: freq=93 size=700 all=11301 active=1732 piece=▁water\n",
      "bpe_model_trainer.cc(159) LOG(INFO) Updating active symbols. max_freq=93 min_freq=31\n",
      "bpe_model_trainer.cc(268) LOG(INFO) Added: freq=90 size=720 all=11425 active=1120 piece=▁comm\n",
      "bpe_model_trainer.cc(268) LOG(INFO) Added: freq=87 size=740 all=11522 active=1217 piece=▁As\n",
      "bpe_model_trainer.cc(268) LOG(INFO) Added: freq=83 size=760 all=11670 active=1365 piece=▁अ\n",
      "bpe_model_trainer.cc(268) LOG(INFO) Added: freq=81 size=780 all=11841 active=1536 piece=ense\n",
      "bpe_model_trainer.cc(268) LOG(INFO) Added: freq=78 size=800 all=11899 active=1594 piece=age\n",
      "bpe_model_trainer.cc(159) LOG(INFO) Updating active symbols. max_freq=78 min_freq=28\n",
      "bpe_model_trainer.cc(268) LOG(INFO) Added: freq=75 size=820 all=11991 active=1076 piece=ard\n",
      "bpe_model_trainer.cc(268) LOG(INFO) Added: freq=73 size=840 all=12087 active=1172 piece=▁min\n",
      "bpe_model_trainer.cc(268) LOG(INFO) Added: freq=70 size=860 all=12203 active=1288 piece=▁own\n",
      "bpe_model_trainer.cc(268) LOG(INFO) Added: freq=69 size=880 all=12256 active=1341 piece=▁अरण्यकाण्डे\n",
      "bpe_model_trainer.cc(268) LOG(INFO) Added: freq=67 size=900 all=12363 active=1448 piece=atayu\n",
      "bpe_model_trainer.cc(159) LOG(INFO) Updating active symbols. max_freq=67 min_freq=26\n",
      "bpe_model_trainer.cc(268) LOG(INFO) Added: freq=65 size=920 all=12438 active=1074 piece=▁comple\n",
      "bpe_model_trainer.cc(268) LOG(INFO) Added: freq=63 size=940 all=12510 active=1146 piece=▁auspicious\n",
      "bpe_model_trainer.cc(268) LOG(INFO) Added: freq=61 size=960 all=12631 active=1267 piece=▁offered\n",
      "bpe_model_trainer.cc(268) LOG(INFO) Added: freq=59 size=980 all=12714 active=1350 piece=▁self\n",
      "bpe_model_trainer.cc(268) LOG(INFO) Added: freq=58 size=1000 all=12785 active=1421 piece=▁blood\n",
      "bpe_model_trainer.cc(159) LOG(INFO) Updating active symbols. max_freq=58 min_freq=23\n",
      "bpe_model_trainer.cc(268) LOG(INFO) Added: freq=56 size=1020 all=12863 active=1074 piece=idd\n",
      "bpe_model_trainer.cc(268) LOG(INFO) Added: freq=55 size=1040 all=12939 active=1150 piece=stru\n",
      "bpe_model_trainer.cc(268) LOG(INFO) Added: freq=54 size=1060 all=12999 active=1210 piece=▁sacred\n",
      "bpe_model_trainer.cc(268) LOG(INFO) Added: freq=52 size=1080 all=13066 active=1277 piece=▁If\n",
      "bpe_model_trainer.cc(268) LOG(INFO) Added: freq=50 size=1100 all=13093 active=1304 piece=art\n",
      "bpe_model_trainer.cc(159) LOG(INFO) Updating active symbols. max_freq=50 min_freq=22\n",
      "bpe_model_trainer.cc(268) LOG(INFO) Added: freq=49 size=1120 all=13178 active=1070 piece=▁head\n",
      "bpe_model_trainer.cc(268) LOG(INFO) Added: freq=48 size=1140 all=13297 active=1189 piece=▁rest\n",
      "bpe_model_trainer.cc(268) LOG(INFO) Added: freq=47 size=1160 all=13350 active=1242 piece=▁hand\n",
      "bpe_model_trainer.cc(268) LOG(INFO) Added: freq=46 size=1180 all=13387 active=1279 piece=▁Agastya\n",
      "bpe_model_trainer.cc(268) LOG(INFO) Added: freq=45 size=1200 all=13477 active=1369 piece=uring\n",
      "bpe_model_trainer.cc(159) LOG(INFO) Updating active symbols. max_freq=45 min_freq=20\n",
      "bpe_model_trainer.cc(268) LOG(INFO) Added: freq=44 size=1220 all=13551 active=1063 piece=cribed\n",
      "bpe_model_trainer.cc(268) LOG(INFO) Added: freq=43 size=1240 all=13593 active=1105 piece=quired\n",
      "bpe_model_trainer.cc(268) LOG(INFO) Added: freq=42 size=1260 all=13664 active=1176 piece=gether\n",
      "bpe_model_trainer.cc(268) LOG(INFO) Added: freq=41 size=1280 all=13723 active=1235 piece=▁aff\n",
      "bpe_model_trainer.cc(268) LOG(INFO) Added: freq=40 size=1300 all=13783 active=1295 piece=akha\n",
      "bpe_model_trainer.cc(159) LOG(INFO) Updating active symbols. max_freq=40 min_freq=19\n",
      "bpe_model_trainer.cc(268) LOG(INFO) Added: freq=40 size=1320 all=13830 active=1046 piece=▁rakshasas\n",
      "bpe_model_trainer.cc(268) LOG(INFO) Added: freq=39 size=1340 all=13907 active=1123 piece=▁story\n",
      "bpe_model_trainer.cc(268) LOG(INFO) Added: freq=38 size=1360 all=13935 active=1151 piece=▁Iksh\n",
      "bpe_model_trainer.cc(268) LOG(INFO) Added: freq=37 size=1380 all=13943 active=1159 piece=्च\n",
      "bpe_model_trainer.cc(268) LOG(INFO) Added: freq=36 size=1400 all=14002 active=1218 piece=bly\n",
      "bpe_model_trainer.cc(159) LOG(INFO) Updating active symbols. max_freq=36 min_freq=17\n",
      "bpe_model_trainer.cc(268) LOG(INFO) Added: freq=35 size=1420 all=14031 active=1024 piece=ष्\n",
      "bpe_model_trainer.cc(268) LOG(INFO) Added: freq=35 size=1440 all=14132 active=1125 piece=▁human\n",
      "bpe_model_trainer.cc(268) LOG(INFO) Added: freq=34 size=1460 all=14195 active=1188 piece=▁pit\n",
      "bpe_model_trainer.cc(268) LOG(INFO) Added: freq=33 size=1480 all=14246 active=1239 piece=anim\n",
      "bpe_model_trainer.cc(268) LOG(INFO) Added: freq=33 size=1500 all=14296 active=1289 piece=▁means\n",
      "bpe_model_trainer.cc(159) LOG(INFO) Updating active symbols. max_freq=33 min_freq=16\n",
      "bpe_model_trainer.cc(268) LOG(INFO) Added: freq=32 size=1520 all=14341 active=1046 piece=▁sil\n",
      "bpe_model_trainer.cc(268) LOG(INFO) Added: freq=31 size=1540 all=14342 active=1047 piece=ac\n",
      "bpe_model_trainer.cc(268) LOG(INFO) Added: freq=31 size=1560 all=14460 active=1165 piece=▁birth\n",
      "bpe_model_trainer.cc(268) LOG(INFO) Added: freq=30 size=1580 all=14512 active=1217 piece=ini\n",
      "bpe_model_trainer.cc(268) LOG(INFO) Added: freq=30 size=1600 all=14563 active=1268 piece=▁refuge\n",
      "bpe_model_trainer.cc(159) LOG(INFO) Updating active symbols. max_freq=30 min_freq=15\n",
      "bpe_model_trainer.cc(268) LOG(INFO) Added: freq=29 size=1620 all=14619 active=1057 piece=▁That\n",
      "bpe_model_trainer.cc(268) LOG(INFO) Added: freq=29 size=1640 all=14634 active=1072 piece=▁lifted\n",
      "bpe_model_trainer.cc(268) LOG(INFO) Added: freq=28 size=1660 all=14672 active=1110 piece=▁joy\n",
      "bpe_model_trainer.cc(268) LOG(INFO) Added: freq=28 size=1680 all=14706 active=1144 piece=▁marriage\n",
      "bpe_model_trainer.cc(268) LOG(INFO) Added: freq=27 size=1700 all=14782 active=1220 piece=ither\n",
      "bpe_model_trainer.cc(159) LOG(INFO) Updating active symbols. max_freq=27 min_freq=14\n",
      "bpe_model_trainer.cc(268) LOG(INFO) Added: freq=27 size=1720 all=14804 active=1017 piece=▁enquired\n",
      "bpe_model_trainer.cc(268) LOG(INFO) Added: freq=26 size=1740 all=14851 active=1064 piece=▁wie\n",
      "bpe_model_trainer.cc(268) LOG(INFO) Added: freq=26 size=1760 all=14886 active=1099 piece=▁Himav\n",
      "bpe_model_trainer.cc(268) LOG(INFO) Added: freq=25 size=1780 all=14900 active=1113 piece=ark\n",
      "bpe_model_trainer.cc(268) LOG(INFO) Added: freq=25 size=1800 all=14989 active=1202 piece=▁gems\n",
      "bpe_model_trainer.cc(159) LOG(INFO) Updating active symbols. max_freq=25 min_freq=13\n",
      "bpe_model_trainer.cc(268) LOG(INFO) Added: freq=24 size=1820 all=15011 active=1023 piece=ja\n",
      "bpe_model_trainer.cc(268) LOG(INFO) Added: freq=24 size=1840 all=15067 active=1079 piece=▁spok\n",
      "bpe_model_trainer.cc(268) LOG(INFO) Added: freq=24 size=1860 all=15067 active=1079 piece=▁offering\n",
      "bpe_model_trainer.cc(268) LOG(INFO) Added: freq=23 size=1880 all=15188 active=1200 piece=akes\n",
      "bpe_model_trainer.cc(268) LOG(INFO) Added: freq=23 size=1900 all=15252 active=1264 piece=▁cows\n",
      "bpe_model_trainer.cc(159) LOG(INFO) Updating active symbols. max_freq=23 min_freq=13\n",
      "bpe_model_trainer.cc(268) LOG(INFO) Added: freq=23 size=1920 all=15262 active=1011 piece=▁thirty\n",
      "bpe_model_trainer.cc(268) LOG(INFO) Added: freq=22 size=1940 all=15337 active=1086 piece=xion\n",
      "bpe_model_trainer.cc(268) LOG(INFO) Added: freq=22 size=1960 all=15377 active=1126 piece=▁abode\n",
      "bpe_model_trainer.cc(268) LOG(INFO) Added: freq=22 size=1980 all=15367 active=1116 piece=▁affection\n",
      "bpe_model_trainer.cc(268) LOG(INFO) Added: freq=21 size=2000 all=15428 active=1177 piece=▁ban\n",
      "bpe_model_trainer.cc(159) LOG(INFO) Updating active symbols. max_freq=21 min_freq=12\n",
      "bpe_model_trainer.cc(268) LOG(INFO) Added: freq=21 size=2020 all=15483 active=1051 piece=ndsire\n",
      "bpe_model_trainer.cc(268) LOG(INFO) Added: freq=21 size=2040 all=15491 active=1059 piece=▁Kabandha\n",
      "bpe_model_trainer.cc(268) LOG(INFO) Added: freq=20 size=2060 all=15558 active=1126 piece=amad\n",
      "bpe_model_trainer.cc(268) LOG(INFO) Added: freq=20 size=2080 all=15619 active=1187 piece=usion\n",
      "bpe_model_trainer.cc(268) LOG(INFO) Added: freq=20 size=2100 all=15656 active=1224 piece=▁shone\n",
      "bpe_model_trainer.cc(159) LOG(INFO) Updating active symbols. max_freq=20 min_freq=11\n",
      "bpe_model_trainer.cc(268) LOG(INFO) Added: freq=20 size=2120 all=15650 active=995 piece=्चाशस्सर्ग\n",
      "bpe_model_trainer.cc(268) LOG(INFO) Added: freq=19 size=2140 all=15686 active=1031 piece=ming\n",
      "bpe_model_trainer.cc(268) LOG(INFO) Added: freq=19 size=2160 all=15719 active=1064 piece=▁achie\n",
      "bpe_model_trainer.cc(268) LOG(INFO) Added: freq=19 size=2180 all=15723 active=1068 piece=▁witness\n",
      "bpe_model_trainer.cc(268) LOG(INFO) Added: freq=18 size=2200 all=15754 active=1099 piece=uck\n",
      "bpe_model_trainer.cc(159) LOG(INFO) Updating active symbols. max_freq=18 min_freq=11\n",
      "bpe_model_trainer.cc(268) LOG(INFO) Added: freq=18 size=2220 all=15814 active=1051 piece=▁ears\n",
      "bpe_model_trainer.cc(268) LOG(INFO) Added: freq=18 size=2240 all=15833 active=1070 piece=▁inter\n",
      "bpe_model_trainer.cc(268) LOG(INFO) Added: freq=18 size=2260 all=15838 active=1075 piece=▁terrible\n",
      "bpe_model_trainer.cc(268) LOG(INFO) Added: freq=17 size=2280 all=15886 active=1123 piece=▁Das\n",
      "bpe_model_trainer.cc(268) LOG(INFO) Added: freq=17 size=2300 all=15936 active=1173 piece=▁bath\n",
      "bpe_model_trainer.cc(159) LOG(INFO) Updating active symbols. max_freq=17 min_freq=10\n",
      "bpe_model_trainer.cc(268) LOG(INFO) Added: freq=17 size=2320 all=15957 active=1019 piece=▁These\n",
      "bpe_model_trainer.cc(268) LOG(INFO) Added: freq=17 size=2340 all=15957 active=1019 piece=▁unable\n",
      "bpe_model_trainer.cc(268) LOG(INFO) Added: freq=17 size=2360 all=15940 active=1002 piece=▁frightened\n",
      "bpe_model_trainer.cc(268) LOG(INFO) Added: freq=16 size=2380 all=15988 active=1050 piece=arna\n",
      "bpe_model_trainer.cc(268) LOG(INFO) Added: freq=16 size=2400 all=16057 active=1119 piece=▁sta\n",
      "bpe_model_trainer.cc(159) LOG(INFO) Updating active symbols. max_freq=16 min_freq=10\n",
      "bpe_model_trainer.cc(268) LOG(INFO) Added: freq=16 size=2420 all=16081 active=1021 piece=licted\n",
      "bpe_model_trainer.cc(268) LOG(INFO) Added: freq=16 size=2440 all=16093 active=1033 piece=▁cursed\n",
      "bpe_model_trainer.cc(268) LOG(INFO) Added: freq=16 size=2460 all=16084 active=1024 piece=▁evilminded\n",
      "bpe_model_trainer.cc(268) LOG(INFO) Added: freq=15 size=2480 all=16141 active=1081 piece=▁unt\n",
      "bpe_model_trainer.cc(268) LOG(INFO) Added: freq=15 size=2500 all=16174 active=1114 piece=▁held\n",
      "bpe_model_trainer.cc(159) LOG(INFO) Updating active symbols. max_freq=15 min_freq=9\n",
      "bpe_model_trainer.cc(268) LOG(INFO) Added: freq=15 size=2520 all=16201 active=1028 piece=▁guard\n",
      "bpe_model_trainer.cc(268) LOG(INFO) Added: freq=15 size=2540 all=16202 active=1029 piece=▁places\n",
      "bpe_model_trainer.cc(268) LOG(INFO) Added: freq=15 size=2560 all=16189 active=1016 piece=▁largeeyed\n",
      "bpe_model_trainer.cc(268) LOG(INFO) Added: freq=14 size=2580 all=16237 active=1064 piece=ros\n",
      "bpe_model_trainer.cc(268) LOG(INFO) Added: freq=14 size=2600 all=16307 active=1134 piece=antly\n",
      "bpe_model_trainer.cc(159) LOG(INFO) Updating active symbols. max_freq=14 min_freq=9\n",
      "bpe_model_trainer.cc(268) LOG(INFO) Added: freq=14 size=2620 all=16347 active=1036 piece=▁Jamad\n",
      "bpe_model_trainer.cc(268) LOG(INFO) Added: freq=14 size=2640 all=16343 active=1032 piece=▁reason\n",
      "bpe_model_trainer.cc(268) LOG(INFO) Added: freq=14 size=2660 all=16330 active=1019 piece=▁quarters\n",
      "bpe_model_trainer.cc(268) LOG(INFO) Added: freq=13 size=2680 all=16312 active=1001 piece=▁ष\n",
      "bpe_model_trainer.cc(268) LOG(INFO) Added: freq=13 size=2700 all=16394 active=1083 piece=four\n",
      "bpe_model_trainer.cc(159) LOG(INFO) Updating active symbols. max_freq=13 min_freq=8\n",
      "bpe_model_trainer.cc(268) LOG(INFO) Added: freq=13 size=2720 all=16439 active=1038 piece=▁अष्\n",
      "bpe_model_trainer.cc(268) LOG(INFO) Added: freq=13 size=2740 all=16469 active=1068 piece=��twel\n",
      "bpe_model_trainer.cc(268) LOG(INFO) Added: freq=13 size=2760 all=16490 active=1089 piece=▁fragr\n",
      "bpe_model_trainer.cc(268) LOG(INFO) Added: freq=13 size=2780 all=16489 active=1088 piece=▁assume\n",
      "bpe_model_trainer.cc(268) LOG(INFO) Added: freq=13 size=2800 all=16488 active=1087 piece=▁contain\n",
      "bpe_model_trainer.cc(159) LOG(INFO) Updating active symbols. max_freq=13 min_freq=8\n",
      "bpe_model_trainer.cc(268) LOG(INFO) Added: freq=13 size=2820 all=16480 active=989 piece=▁maharshi\n",
      "bpe_model_trainer.cc(268) LOG(INFO) Added: freq=12 size=2840 all=16497 active=1006 piece=rat\n",
      "bpe_model_trainer.cc(268) LOG(INFO) Added: freq=12 size=2860 all=16567 active=1076 piece=▁Nar\n",
      "bpe_model_trainer.cc(268) LOG(INFO) Added: freq=12 size=2880 all=16610 active=1119 piece=itude\n",
      "bpe_model_trainer.cc(268) LOG(INFO) Added: freq=12 size=2900 all=16648 active=1157 piece=▁scor\n",
      "bpe_model_trainer.cc(159) LOG(INFO) Updating active symbols. max_freq=12 min_freq=7\n",
      "bpe_model_trainer.cc(268) LOG(INFO) Added: freq=12 size=2920 all=16692 active=1041 piece=▁Pleas\n",
      "bpe_model_trainer.cc(268) LOG(INFO) Added: freq=12 size=2940 all=16697 active=1046 piece=itiated\n",
      "bpe_model_trainer.cc(268) LOG(INFO) Added: freq=12 size=2960 all=16697 active=1046 piece=▁meaning\n",
      "bpe_model_trainer.cc(268) LOG(INFO) Added: freq=12 size=2980 all=16680 active=1029 piece=▁continued\n",
      "bpe_model_trainer.cc(268) LOG(INFO) Added: freq=11 size=3000 all=16696 active=1045 piece=ilt\n",
      "bpe_model_trainer.cc(159) LOG(INFO) Updating active symbols. max_freq=11 min_freq=7\n",
      "bpe_model_trainer.cc(268) LOG(INFO) Added: freq=11 size=3020 all=16757 active=1060 piece=▁cre\n",
      "bpe_model_trainer.cc(268) LOG(INFO) Added: freq=11 size=3040 all=16796 active=1099 piece=pless\n",
      "bpe_model_trainer.cc(268) LOG(INFO) Added: freq=11 size=3060 all=16827 active=1130 piece=▁mine\n",
      "bpe_model_trainer.cc(268) LOG(INFO) Added: freq=11 size=3080 all=16840 active=1143 piece=▁queen\n",
      "bpe_model_trainer.cc(268) LOG(INFO) Added: freq=11 size=3100 all=16843 active=1146 piece=▁strike\n",
      "bpe_model_trainer.cc(159) LOG(INFO) Updating active symbols. max_freq=11 min_freq=7\n",
      "bpe_model_trainer.cc(268) LOG(INFO) Added: freq=11 size=3120 all=16832 active=990 piece=▁anything\n",
      "bpe_model_trainer.cc(268) LOG(INFO) Added: freq=10 size=3140 all=16830 active=988 piece=Jan\n",
      "bpe_model_trainer.cc(268) LOG(INFO) Added: freq=10 size=3160 all=16902 active=1060 piece=▁Ar\n",
      "bpe_model_trainer.cc(268) LOG(INFO) Added: freq=10 size=3180 all=16966 active=1124 piece=uals\n",
      "bpe_model_trainer.cc(268) LOG(INFO) Added: freq=10 size=3200 all=17006 active=1164 piece=anded\n",
      "bpe_model_trainer.cc(159) LOG(INFO) Updating active symbols. max_freq=10 min_freq=7\n",
      "bpe_model_trainer.cc(268) LOG(INFO) Added: freq=10 size=3220 all=17042 active=1033 piece=▁fact\n",
      "bpe_model_trainer.cc(268) LOG(INFO) Added: freq=10 size=3240 all=17052 active=1043 piece=▁wash\n",
      "bpe_model_trainer.cc(268) LOG(INFO) Added: freq=10 size=3260 all=17076 active=1067 piece=▁creep\n",
      "bpe_model_trainer.cc(268) LOG(INFO) Added: freq=10 size=3280 all=17082 active=1073 piece=▁Subahu\n",
      "bpe_model_trainer.cc(268) LOG(INFO) Added: freq=10 size=3300 all=17077 active=1068 piece=▁crushed\n",
      "bpe_model_trainer.cc(159) LOG(INFO) Updating active symbols. max_freq=10 min_freq=6\n",
      "bpe_model_trainer.cc(268) LOG(INFO) Added: freq=10 size=3320 all=17068 active=992 piece=▁extended\n",
      "bpe_model_trainer.cc(268) LOG(INFO) Added: freq=10 size=3340 all=17052 active=976 piece=▁selfcontro\n",
      "bpe_model_trainer.cc(268) LOG(INFO) Added: freq=9 size=3360 all=17096 active=1020 piece=zed\n",
      "bpe_model_trainer.cc(268) LOG(INFO) Added: freq=9 size=3380 all=17154 active=1078 piece=▁Add\n",
      "bpe_model_trainer.cc(268) LOG(INFO) Added: freq=9 size=3400 all=17184 active=1108 piece=cient\n",
      "bpe_model_trainer.cc(159) LOG(INFO) Updating active symbols. max_freq=9 min_freq=6\n",
      "bpe_model_trainer.cc(268) LOG(INFO) Added: freq=9 size=3420 all=17214 active=1029 piece=▁flew\n",
      "bpe_model_trainer.cc(268) LOG(INFO) Added: freq=9 size=3440 all=17235 active=1050 piece=isions\n",
      "bpe_model_trainer.cc(268) LOG(INFO) Added: freq=9 size=3460 all=17235 active=1050 piece=ounding\n",
      "bpe_model_trainer.cc(268) LOG(INFO) Added: freq=9 size=3480 all=17231 active=1046 piece=▁sandal\n",
      "bpe_model_trainer.cc(268) LOG(INFO) Added: freq=9 size=3500 all=17230 active=1045 piece=▁married\n",
      "bpe_model_trainer.cc(159) LOG(INFO) Updating active symbols. max_freq=9 min_freq=6\n",
      "bpe_model_trainer.cc(268) LOG(INFO) Added: freq=9 size=3520 all=17217 active=988 piece=▁hastened\n",
      "bpe_model_trainer.cc(268) LOG(INFO) Added: freq=9 size=3540 all=17207 active=978 piece=▁stretched\n",
      "bpe_model_trainer.cc(268) LOG(INFO) Added: freq=8 size=3560 all=17216 active=987 piece=sp\n",
      "bpe_model_trainer.cc(268) LOG(INFO) Added: freq=8 size=3580 all=17284 active=1055 piece=akas\n",
      "bpe_model_trainer.cc(268) LOG(INFO) Added: freq=8 size=3600 all=17341 active=1112 piece=▁Sri\n",
      "bpe_model_trainer.cc(159) LOG(INFO) Updating active symbols. max_freq=8 min_freq=5\n",
      "bpe_model_trainer.cc(268) LOG(INFO) Added: freq=8 size=3620 all=17378 active=1038 piece=acrif\n",
      "bpe_model_trainer.cc(268) LOG(INFO) Added: freq=8 size=3640 all=17416 active=1076 piece=▁beat\n",
      "bpe_model_trainer.cc(268) LOG(INFO) Added: freq=8 size=3660 all=17431 active=1091 piece=▁turn\n",
      "bpe_model_trainer.cc(268) LOG(INFO) Added: freq=8 size=3680 all=17450 active=1110 piece=▁aloud\n",
      "bpe_model_trainer.cc(268) LOG(INFO) Added: freq=8 size=3700 all=17447 active=1107 piece=▁truly\n",
      "bpe_model_trainer.cc(159) LOG(INFO) Updating active symbols. max_freq=8 min_freq=5\n",
      "bpe_model_trainer.cc(268) LOG(INFO) Added: freq=8 size=3720 all=17447 active=1001 piece=▁showed\n",
      "bpe_model_trainer.cc(268) LOG(INFO) Added: freq=8 size=3740 all=17431 active=985 piece=▁further\n",
      "bpe_model_trainer.cc(268) LOG(INFO) Added: freq=8 size=3760 all=17413 active=967 piece=▁approach\n",
      "bpe_model_trainer.cc(268) LOG(INFO) Added: freq=8 size=3780 all=17397 active=951 piece=▁response\n",
      "bpe_model_trainer.cc(268) LOG(INFO) Added: freq=8 size=3800 all=17384 active=938 piece=▁relations\n",
      "bpe_model_trainer.cc(159) LOG(INFO) Updating active symbols. max_freq=8 min_freq=5\n",
      "bpe_model_trainer.cc(268) LOG(INFO) Added: freq=8 size=3820 all=17368 active=985 piece=▁selfcontrolled\n",
      "bpe_model_trainer.cc(268) LOG(INFO) Added: freq=7 size=3840 all=17424 active=1041 piece=oon\n",
      "bpe_model_trainer.cc(268) LOG(INFO) Added: freq=7 size=3860 all=17499 active=1116 piece=ayas\n",
      "bpe_model_trainer.cc(268) LOG(INFO) Added: freq=7 size=3880 all=17525 active=1142 piece=▁Som\n",
      "bpe_model_trainer.cc(268) LOG(INFO) Added: freq=7 size=3900 all=17553 active=1170 piece=▁sun\n",
      "bpe_model_trainer.cc(159) LOG(INFO) Updating active symbols. max_freq=7 min_freq=5\n",
      "bpe_model_trainer.cc(268) LOG(INFO) Added: freq=7 size=3920 all=17585 active=1030 piece=while\n",
      "bpe_model_trainer.cc(268) LOG(INFO) Added: freq=7 size=3940 all=17586 active=1031 piece=▁main\n",
      "bpe_model_trainer.cc(268) LOG(INFO) Added: freq=7 size=3960 all=17601 active=1046 piece=ishyam\n",
      "bpe_model_trainer.cc(268) LOG(INFO) Added: freq=7 size=3980 all=17606 active=1051 piece=���makes\n",
      "bpe_model_trainer.cc(268) LOG(INFO) Added: freq=7 size=4000 all=17608 active=1053 piece=▁armour\n",
      "bpe_model_trainer.cc(159) LOG(INFO) Updating active symbols. max_freq=7 min_freq=5\n",
      "bpe_model_trainer.cc(268) LOG(INFO) Added: freq=7 size=4020 all=17606 active=998 piece=▁myself\n",
      "bpe_model_trainer.cc(268) LOG(INFO) Added: freq=7 size=4040 all=17598 active=990 piece=lessness\n",
      "bpe_model_trainer.cc(268) LOG(INFO) Added: freq=7 size=4060 all=17589 active=981 piece=▁seasons\n",
      "bpe_model_trainer.cc(268) LOG(INFO) Added: freq=7 size=4080 all=17571 active=963 piece=▁fighting\n",
      "bpe_model_trainer.cc(268) LOG(INFO) Added: freq=7 size=4100 all=17553 active=945 piece=▁Prajapati\n",
      "bpe_model_trainer.cc(159) LOG(INFO) Updating active symbols. max_freq=7 min_freq=5\n",
      "bpe_model_trainer.cc(268) LOG(INFO) Added: freq=7 size=4120 all=17534 active=982 piece=▁Brahmaloka\n",
      "bpe_model_trainer.cc(268) LOG(INFO) Added: freq=7 size=4140 all=17514 active=962 piece=▁knowledgeable\n",
      "bpe_model_trainer.cc(268) LOG(INFO) Added: freq=6 size=4160 all=17566 active=1014 piece=pal\n",
      "bpe_model_trainer.cc(268) LOG(INFO) Added: freq=6 size=4180 all=17595 active=1043 piece=atic\n",
      "bpe_model_trainer.cc(268) LOG(INFO) Added: freq=6 size=4200 all=17640 active=1088 piece=rubs\n",
      "bpe_model_trainer.cc(159) LOG(INFO) Updating active symbols. max_freq=6 min_freq=4\n",
      "bpe_model_trainer.cc(268) LOG(INFO) Added: freq=6 size=4220 all=17663 active=1023 piece=▁esc\n",
      "bpe_model_trainer.cc(268) LOG(INFO) Added: freq=6 size=4240 all=17687 active=1047 piece=earls\n",
      "bpe_model_trainer.cc(268) LOG(INFO) Added: freq=6 size=4260 all=17717 active=1077 piece=vaded\n",
      "bpe_model_trainer.cc(268) LOG(INFO) Added: freq=6 size=4280 all=17723 active=1083 piece=▁fest\n",
      "bpe_model_trainer.cc(268) LOG(INFO) Added: freq=6 size=4300 all=17735 active=1095 piece=▁द्वा\n",
      "bpe_model_trainer.cc(159) LOG(INFO) Updating active symbols. max_freq=6 min_freq=4\n",
      "bpe_model_trainer.cc(268) LOG(INFO) Added: freq=6 size=4320 all=17752 active=1015 piece=▁Their\n",
      "bpe_model_trainer.cc(268) LOG(INFO) Added: freq=6 size=4340 all=17753 active=1016 piece=▁impur\n",
      "bpe_model_trainer.cc(268) LOG(INFO) Added: freq=6 size=4360 all=17750 active=1013 piece=▁trust\n",
      "bpe_model_trainer.cc(268) LOG(INFO) Added: freq=6 size=4380 all=17749 active=1012 piece=▁behold\n",
      "bpe_model_trainer.cc(268) LOG(INFO) Added: freq=6 size=4400 all=17740 active=1003 piece=▁karnik\n",
      "bpe_model_trainer.cc(159) LOG(INFO) Updating active symbols. max_freq=6 min_freq=4\n",
      "bpe_model_trainer.cc(268) LOG(INFO) Added: freq=6 size=4420 all=17734 active=992 piece=▁uragas\n",
      "bpe_model_trainer.cc(268) LOG(INFO) Added: freq=6 size=4440 all=17727 active=985 piece=▁efforts\n",
      "bpe_model_trainer.cc(268) LOG(INFO) Added: freq=6 size=4460 all=17710 active=968 piece=▁awaiting\n",
      "bpe_model_trainer.cc(268) LOG(INFO) Added: freq=6 size=4480 all=17692 active=950 piece=▁watching\n",
      "bpe_model_trainer.cc(268) LOG(INFO) Added: freq=6 size=4500 all=17678 active=936 piece=▁sparkling\n",
      "bpe_model_trainer.cc(159) LOG(INFO) Updating active symbols. max_freq=6 min_freq=4\n",
      "bpe_model_trainer.cc(268) LOG(INFO) Added: freq=6 size=4520 all=17658 active=981 piece=▁infatuated\n",
      "bpe_model_trainer.cc(268) LOG(INFO) Added: freq=6 size=4540 all=17640 active=963 piece=चत्वारिंशस्सर्गः\n",
      "bpe_model_trainer.cc(268) LOG(INFO) Added: freq=5 size=4560 all=17662 active=985 piece=ils\n",
      "bpe_model_trainer.cc(268) LOG(INFO) Added: freq=5 size=4580 all=17719 active=1042 piece=▁Oh\n",
      "bpe_model_trainer.cc(268) LOG(INFO) Added: freq=5 size=4600 all=17747 active=1070 piece=just\n",
      "bpe_model_trainer.cc(159) LOG(INFO) Updating active symbols. max_freq=5 min_freq=4\n",
      "bpe_model_trainer.cc(268) LOG(INFO) Added: freq=5 size=4620 all=17780 active=1031 piece=▁Kad\n",
      "bpe_model_trainer.cc(268) LOG(INFO) Added: freq=5 size=4640 all=17797 active=1048 piece=▁ket\n",
      "bpe_model_trainer.cc(268) LOG(INFO) Added: freq=5 size=4660 all=17829 active=1080 piece=asted\n",
      "bpe_model_trainer.cc(268) LOG(INFO) Added: freq=5 size=4680 all=17855 active=1106 piece=ority\n",
      "bpe_model_trainer.cc(268) LOG(INFO) Added: freq=5 size=4700 all=17872 active=1123 piece=▁auth\n",
      "bpe_model_trainer.cc(159) LOG(INFO) Updating active symbols. max_freq=5 min_freq=4\n",
      "bpe_model_trainer.cc(268) LOG(INFO) Added: freq=5 size=4720 all=17873 active=1000 piece=▁less\n",
      "bpe_model_trainer.cc(268) LOG(INFO) Added: freq=5 size=4740 all=17870 active=997 piece=▁teem\n",
      "bpe_model_trainer.cc(268) LOG(INFO) Added: freq=5 size=4760 all=17880 active=1007 piece=racted\n",
      "bpe_model_trainer.cc(268) LOG(INFO) Added: freq=5 size=4780 all=17889 active=1016 piece=▁aside\n",
      "bpe_model_trainer.cc(268) LOG(INFO) Added: freq=5 size=4800 all=17881 active=1008 piece=▁ignor\n",
      "bpe_model_trainer.cc(159) LOG(INFO) Updating active symbols. max_freq=5 min_freq=4\n",
      "bpe_model_trainer.cc(268) LOG(INFO) Added: freq=5 size=4820 all=17883 active=1000 piece=▁sadly\n",
      "bpe_model_trainer.cc(268) LOG(INFO) Added: freq=5 size=4840 all=17875 active=992 piece=ability\n",
      "bpe_model_trainer.cc(268) LOG(INFO) Added: freq=5 size=4860 all=17879 active=996 piece=▁Vamana\n",
      "bpe_model_trainer.cc(268) LOG(INFO) Added: freq=5 size=4880 all=17870 active=987 piece=▁facing\n",
      "bpe_model_trainer.cc(268) LOG(INFO) Added: freq=5 size=4900 all=17858 active=975 piece=▁portra\n",
      "bpe_model_trainer.cc(159) LOG(INFO) Updating active symbols. max_freq=5 min_freq=4\n",
      "bpe_model_trainer.cc(268) LOG(INFO) Added: freq=5 size=4920 all=17849 active=989 piece=▁wander\n",
      "bpe_model_trainer.cc(268) LOG(INFO) Added: freq=5 size=4940 all=17840 active=980 piece=▁aquatic\n",
      "bpe_model_trainer.cc(268) LOG(INFO) Added: freq=5 size=4960 all=17835 active=975 piece=▁finding\n",
      "bpe_model_trainer.cc(268) LOG(INFO) Added: freq=5 size=4980 all=17817 active=957 piece=▁sensual\n",
      "bpe_model_trainer.cc(268) LOG(INFO) Added: freq=5 size=5000 all=17805 active=945 piece=▁Pushpaka\n",
      "bpe_model_trainer.cc(159) LOG(INFO) Updating active symbols. max_freq=5 min_freq=3\n",
      "bpe_model_trainer.cc(268) LOG(INFO) Added: freq=5 size=5020 all=17785 active=981 piece=▁kinneras\n",
      "bpe_model_trainer.cc(268) LOG(INFO) Added: freq=5 size=5040 all=17773 active=969 piece=▁youngest\n",
      "bpe_model_trainer.cc(268) LOG(INFO) Added: freq=5 size=5060 all=17758 active=954 piece=▁inundated\n",
      "bpe_model_trainer.cc(268) LOG(INFO) Added: freq=5 size=5080 all=17739 active=935 piece=▁highsouled\n",
      "bpe_model_trainer.cc(268) LOG(INFO) Added: freq=5 size=5100 all=17719 active=915 piece=▁swiftfooted\n",
      "bpe_model_trainer.cc(159) LOG(INFO) Updating active symbols. max_freq=5 min_freq=3\n",
      "bpe_model_trainer.cc(268) LOG(INFO) Added: freq=4 size=5120 all=17710 active=992 piece=Mar\n",
      "bpe_model_trainer.cc(268) LOG(INFO) Added: freq=4 size=5140 all=17740 active=1022 piece=iqu\n",
      "bpe_model_trainer.cc(268) LOG(INFO) Added: freq=4 size=5160 all=17774 active=1056 piece=▁De\n",
      "bpe_model_trainer.cc(268) LOG(INFO) Added: freq=4 size=5180 all=17792 active=1074 piece=dras\n",
      "bpe_model_trainer.cc(268) LOG(INFO) Added: freq=4 size=5200 all=17826 active=1108 piece=mpet\n",
      "bpe_model_trainer.cc(159) LOG(INFO) Updating active symbols. max_freq=4 min_freq=3\n",
      "bpe_model_trainer.cc(268) LOG(INFO) Added: freq=4 size=5220 all=17844 active=1016 piece=▁Hit\n",
      "bpe_model_trainer.cc(268) LOG(INFO) Added: freq=4 size=5240 all=17850 active=1022 piece=▁fil\n",
      "bpe_model_trainer.cc(268) LOG(INFO) Added: freq=4 size=5260 all=17861 active=1033 piece=Laksh\n",
      "bpe_model_trainer.cc(268) LOG(INFO) Added: freq=4 size=5280 all=17879 active=1051 piece=grace\n",
      "bpe_model_trainer.cc(268) LOG(INFO) Added: freq=4 size=5300 all=17899 active=1071 piece=pered\n",
      "bpe_model_trainer.cc(159) LOG(INFO) Updating active symbols. max_freq=4 min_freq=3\n",
      "bpe_model_trainer.cc(268) LOG(INFO) Added: freq=4 size=5320 all=17914 active=1014 piece=▁Megh\n",
      "bpe_model_trainer.cc(268) LOG(INFO) Added: freq=4 size=5340 all=17921 active=1021 piece=▁died\n",
      "bpe_model_trainer.cc(268) LOG(INFO) Added: freq=4 size=5360 all=17925 active=1025 piece=▁leap\n",
      "bpe_model_trainer.cc(268) LOG(INFO) Added: freq=4 size=5380 all=17926 active=1026 piece=▁tail\n",
      "bpe_model_trainer.cc(268) LOG(INFO) Added: freq=4 size=5400 all=17929 active=1029 piece=before\n",
      "bpe_model_trainer.cc(159) LOG(INFO) Updating active symbols. max_freq=4 min_freq=3\n",
      "bpe_model_trainer.cc(268) LOG(INFO) Added: freq=4 size=5420 all=17940 active=1012 piece=▁Mahak\n",
      "bpe_model_trainer.cc(268) LOG(INFO) Added: freq=4 size=5440 all=17936 active=1008 piece=▁exped\n",
      "bpe_model_trainer.cc(268) LOG(INFO) Added: freq=4 size=5460 all=17927 active=999 piece=▁leads\n",
      "bpe_model_trainer.cc(268) LOG(INFO) Added: freq=4 size=5480 all=17912 active=984 piece=▁spike\n",
      "bpe_model_trainer.cc(268) LOG(INFO) Added: freq=4 size=5500 all=17905 active=977 piece=ciation\n",
      "bpe_model_trainer.cc(159) LOG(INFO) Updating active symbols. max_freq=4 min_freq=3\n",
      "bpe_model_trainer.cc(268) LOG(INFO) Added: freq=4 size=5520 all=17914 active=1008 piece=▁Dandak\n",
      "bpe_model_trainer.cc(268) LOG(INFO) Added: freq=4 size=5540 all=17905 active=999 piece=▁cannib\n",
      "bpe_model_trainer.cc(268) LOG(INFO) Added: freq=4 size=5560 all=17892 active=986 piece=▁gently\n",
      "bpe_model_trainer.cc(268) LOG(INFO) Added: freq=4 size=5580 all=17882 active=976 piece=▁partic\n",
      "bpe_model_trainer.cc(268) LOG(INFO) Added: freq=4 size=5600 all=17880 active=974 piece=▁tribut\n",
      "bpe_model_trainer.cc(159) LOG(INFO) Updating active symbols. max_freq=4 min_freq=3\n",
      "bpe_model_trainer.cc(268) LOG(INFO) Added: freq=4 size=5620 all=17876 active=995 piece=▁Because\n",
      "bpe_model_trainer.cc(268) LOG(INFO) Added: freq=4 size=5640 all=17859 active=978 piece=▁cluster\n",
      "bpe_model_trainer.cc(268) LOG(INFO) Added: freq=4 size=5660 all=17843 active=962 piece=▁knowers\n",
      "bpe_model_trainer.cc(268) LOG(INFO) Added: freq=4 size=5680 all=17826 active=945 piece=▁skilful\n",
      "bpe_model_trainer.cc(268) LOG(INFO) Added: freq=4 size=5700 all=17823 active=942 piece=ikhanasas\n",
      "bpe_model_trainer.cc(159) LOG(INFO) Updating active symbols. max_freq=4 min_freq=3\n",
      "bpe_model_trainer.cc(268) LOG(INFO) Added: freq=4 size=5720 all=17809 active=985 piece=▁attended\n",
      "bpe_model_trainer.cc(268) LOG(INFO) Added: freq=4 size=5740 all=17790 active=966 piece=▁heavenly\n",
      "bpe_model_trainer.cc(268) LOG(INFO) Added: freq=4 size=5760 all=17774 active=950 piece=▁shedding\n",
      "bpe_model_trainer.cc(268) LOG(INFO) Added: freq=4 size=5780 all=17759 active=935 piece=▁abounding\n",
      "bpe_model_trainer.cc(268) LOG(INFO) Added: freq=4 size=5800 all=17739 active=915 piece=▁forbidden\n",
      "bpe_model_trainer.cc(159) LOG(INFO) Updating active symbols. max_freq=4 min_freq=3\n",
      "bpe_model_trainer.cc(268) LOG(INFO) Added: freq=4 size=5820 all=17720 active=982 piece=▁residents\n",
      "bpe_model_trainer.cc(268) LOG(INFO) Added: freq=4 size=5840 all=17700 active=962 piece=▁beneficial\n",
      "bpe_model_trainer.cc(268) LOG(INFO) Added: freq=4 size=5860 all=17682 active=944 piece=▁thirteenth\n",
      "bpe_model_trainer.cc(268) LOG(INFO) Added: freq=4 size=5880 all=17664 active=926 piece=▁righteously\n",
      "bpe_model_trainer.cc(268) LOG(INFO) Added: freq=4 size=5900 all=17645 active=907 piece=▁pleasuregardens\n",
      "bpe_model_trainer.cc(159) LOG(INFO) Updating active symbols. max_freq=3 min_freq=3\n",
      "trainer_interface.cc(687) LOG(INFO) Saving model: /home/sysadm/Tuhin/LLM2_Updated/LLM2/data/aranyakanda_english.model\n",
      "trainer_interface.cc(699) LOG(INFO) Saving vocabs: /home/sysadm/Tuhin/LLM2_Updated/LLM2/data/aranyakanda_english.vocab\n",
      "/home/sysadm/.local/lib/python3.10/site-packages/torch/cuda/__init__.py:129: UserWarning: CUDA initialization: The NVIDIA driver on your system is too old (found version 11040). Please update your GPU driver by downloading and installing a new version from the URL: http://www.nvidia.com/Download/index.aspx Alternatively, go to: https://pytorch.org to install a PyTorch version that has been compiled with your version of the CUDA driver. (Triggered internally at ../c10/cuda/CUDAFunctions.cpp:108.)\n",
      "  return torch._C._cuda_getDeviceCount() > 0\n"
     ]
    }
   ],
   "source": [
    "import sys\n",
    "\n",
    "sys.path.append(\"..\")\n",
    "\n",
    "from pathlib import Path\n",
    "import matplotlib.pyplot as plt\n",
    "import torch\n",
    "from torch.utils.data import DataLoader\n",
    "\n",
    "from model.llm import LLM\n",
    "from model.tokenizer import Tokenizer, train_tokenizer\n",
    "\n",
    "from helpers.dataset import NextTokenPredictionDataset\n",
    "from helpers.trainer import train\n",
    "from helpers.config import LLMConfig, TrainingConfig, get_device\n",
    "\n",
    "\n",
    "print(f\"pytorch version: {torch.__version__}\")"
   ]
  },
  {
   "cell_type": "markdown",
   "metadata": {},
   "source": [
    "# Set config\n"
   ]
  },
  {
   "cell_type": "code",
   "execution_count": 3,
   "metadata": {},
   "outputs": [],
   "source": [
    "\n",
    "# llm_config and train_config are configuration objects used for configuring the language model (LLM) and the training process, respectively. \n",
    "\n",
    "llm_config = LLMConfig(\n",
    "    # The size of the vocabulary used by the language model.\n",
    "    vocab_size=6000,\n",
    "    # The size of the context window, i.e., the number of tokens considered as context for predicting the next token.\n",
    "    context_size=128,\n",
    "    # The dimensionality of the token embeddings.\n",
    "    dim_emb=256,\n",
    "    # The number of layers in the transformer architecture of the language model.\n",
    "    num_layers=64,\n",
    "    # The number of attention heads in the multi-head self-attention mechanism.\n",
    "    num_heads=32,\n",
    "    # The dropout probability applied to the token embeddings.\n",
    "    emb_dropout=0.0,\n",
    "    # The dimensionality of the hidden layer in the feedforward network within the transformer layers.\n",
    "    ffd_dim_hidden=4 * 256,\n",
    "    # A boolean indicating whether bias is used in the feedforward network within the transformer layers.\n",
    "    ffd_bias=False,\n",
    ")\n",
    "\n",
    "train_config = TrainingConfig(\n",
    "    retrain_tokenizer=False,\n",
    "    device=torch.device(\"cpu\"),\n",
    "    # The batch size used during training.\n",
    "    batch_size=64,\n",
    "    # The learning rate used for optimization during training.\n",
    "    learning_rate=3e-4,\n",
    "    weight_decay=1e-5,\n",
    "    # The maximum number of training steps (or iterations) for which the training will run.\n",
    "    max_steps=4000,\n",
    "    # For example, if set to 1, logging will happen after each training step.\n",
    "    log_frequency=1,\n",
    ")"
   ]
  },
  {
   "cell_type": "markdown",
   "metadata": {},
   "source": [
    "# Prepare tokenizer and dataset\n"
   ]
  },
  {
   "cell_type": "code",
   "execution_count": 4,
   "metadata": {},
   "outputs": [],
   "source": [
    "input_file =\"/home/sysadm/Tuhin/LLM2_Updated/LLM2/data/aranyakanda_english.txt\"\n",
    "output_file = Path(input_file).with_suffix(\".model\")\n",
    "\n",
    "if not output_file.exists() or train_config.retrain_tokenizer:\n",
    "    train_tokenizer(input_file, llm_config.vocab_size)\n",
    "\n",
    "tokenizer = Tokenizer(str(output_file))"
   ]
  },
  {
   "cell_type": "code",
   "execution_count": 5,
   "metadata": {},
   "outputs": [
    {
     "name": "stdout",
     "output_type": "stream",
     "text": [
      "6000\n"
     ]
    }
   ],
   "source": [
    "print(tokenizer.vocab_size)"
   ]
  },
  {
   "cell_type": "code",
   "execution_count": 6,
   "metadata": {},
   "outputs": [
    {
     "name": "stdout",
     "output_type": "stream",
     "text": [
      "['▁The', '▁invincible', '▁and', '▁self', 'possessed', '▁Rama', '▁entered', '▁the', '▁great', '▁forest', '▁of', '▁Dandaka', '▁and', '▁saw', '▁there', '▁a', '▁mult', 'itude', '▁of', '▁hermitages', '▁of', '▁the', '▁ascetics', '.']\n",
      "The invincible and selfpossessed Rama entered the great forest of Dandaka and saw there a multitude of hermitages of the ascetics.\n"
     ]
    }
   ],
   "source": [
    "sentence = (\n",
    "    \"The invincible and selfpossessed Rama entered the great forest of Dandaka and saw there a multitude of hermitages of the ascetics.\"\n",
    ")\n",
    "\n",
    "ipt=tokenizer.sp.EncodeAsPieces(sentence)\n",
    "print(ipt)\n",
    "print(tokenizer.sp.DecodePieces(ipt))\n",
    "\n",
    "# len(tokenizer.sp.EncodeAsIds(sentence))"
   ]
  },
  {
   "cell_type": "code",
   "execution_count": 7,
   "metadata": {},
   "outputs": [
    {
     "name": "stdout",
     "output_type": "stream",
     "text": [
      "tensor([[ 765,   77,  418, 5934, 1766,   17,    8, 2124, 5934,   42,    8, 2159,\n",
      "          793,   88,  222,  109, 3234, 3250,  290, 5412,  192,   77,   91, 5961,\n",
      "         2470,  453,    8, 1401,  280,  319,   30,   30,    8, 1206, 4139, 5935,\n",
      "          455, 5717,   47, 2264, 5934,  133,    5, 2498,   47, 2766, 5935,  439,\n",
      "          232, 4865,  133, 2350,  425, 5934,    8, 1206, 4519,  280, 3739,   30,\n",
      "         2049,   42, 4470,   91]], dtype=torch.int32) tensor([[  77,  418, 5934, 1766,   17,    8, 2124, 5934,   42,    8, 2159,  793,\n",
      "           88,  222,  109, 3234, 3250,  290, 5412,  192,   77,   91, 5961, 2470,\n",
      "          453,    8, 1401,  280,  319,   30,   30,    8, 1206, 4139, 5935,  455,\n",
      "         5717,   47, 2264, 5934,  133,    5, 2498,   47, 2766, 5935,  439,  232,\n",
      "         4865,  133, 2350,  425, 5934,    8, 1206, 4519,  280, 3739,   30, 2049,\n",
      "           42, 4470,   91, 1233]])\n",
      "torch.Size([1, 64]) torch.Size([1, 64])\n"
     ]
    }
   ],
   "source": [
    "# This helper class allow to generate batches of inputs and targets where targets last element is the next token to predict\n",
    "ds_train = NextTokenPredictionDataset(input_file, llm_config.context_size, tokenizer)\n",
    "X, y = ds_train.get_batch(batch_size=1)\n",
    "print(X,y)\n",
    "# The last element of y seems to be the token to predict next.\n",
    "print(X.shape, y.shape)"
   ]
  },
  {
   "cell_type": "markdown",
   "metadata": {},
   "source": [
    "# Define model\n"
   ]
  },
  {
   "cell_type": "code",
   "execution_count": 8,
   "metadata": {},
   "outputs": [
    {
     "name": "stdout",
     "output_type": "stream",
     "text": [
      "total params: 49,256,560\n",
      "model size: 188.211MB\n"
     ]
    }
   ],
   "source": [
    "model = LLM(\n",
    "    vocab_size=tokenizer.vocab_size,\n",
    "    context_size=llm_config.context_size,\n",
    "    dim_emb=llm_config.dim_emb,\n",
    "    num_layers=llm_config.num_layers,\n",
    "    attn_num_heads=llm_config.num_heads,\n",
    "    emb_dropout=llm_config.emb_dropout,\n",
    "    ffd_hidden_dim=llm_config.ffd_dim_hidden,\n",
    "    ffd_bias=llm_config.ffd_bias,\n",
    ")\n",
    "\n",
    "params_size = sum(p.nelement() * p.element_size() for p in model.parameters())\n",
    "buffer_size = sum(p.nelement() * p.element_size() for p in model.buffers())\n",
    "size = (params_size + buffer_size) / 1024**2\n",
    "\n",
    "print(f\"total params: {sum(p.numel() for p in model.parameters()):,d}\")\n",
    "print(f\"model size: {size:.3f}MB\")\n",
    "\n",
    "# print(model)"
   ]
  },
  {
   "cell_type": "markdown",
   "metadata": {},
   "source": [
    "# Train model\n"
   ]
  },
  {
   "cell_type": "code",
   "execution_count": 9,
   "metadata": {},
   "outputs": [
    {
     "name": "stdout",
     "output_type": "stream",
     "text": [
      "Training on cpu.\n",
      "Step 5/4000 - LR:0.0030 - train_loss: 7.143\r"
     ]
    },
    {
     "ename": "KeyboardInterrupt",
     "evalue": "",
     "output_type": "error",
     "traceback": [
      "\u001b[0;31m---------------------------------------------------------------------------\u001b[0m",
      "\u001b[0;31mKeyboardInterrupt\u001b[0m                         Traceback (most recent call last)",
      "Cell \u001b[0;32mIn[9], line 1\u001b[0m\n\u001b[0;32m----> 1\u001b[0m loss_history \u001b[38;5;241m=\u001b[39m \u001b[43mtrain\u001b[49m\u001b[43m(\u001b[49m\n\u001b[1;32m      2\u001b[0m \u001b[43m    \u001b[49m\u001b[43mmodel\u001b[49m\u001b[43m,\u001b[49m\n\u001b[1;32m      3\u001b[0m \u001b[43m    \u001b[49m\u001b[43mds_train\u001b[49m\u001b[43m,\u001b[49m\n\u001b[1;32m      4\u001b[0m \u001b[43m    \u001b[49m\u001b[43mtrain_config\u001b[49m\u001b[38;5;241;43m.\u001b[39;49m\u001b[43mdevice\u001b[49m\u001b[43m,\u001b[49m\n\u001b[1;32m      5\u001b[0m \u001b[43m    \u001b[49m\u001b[43mbatch_size\u001b[49m\u001b[38;5;241;43m=\u001b[39;49m\u001b[43mtrain_config\u001b[49m\u001b[38;5;241;43m.\u001b[39;49m\u001b[43mbatch_size\u001b[49m\u001b[43m,\u001b[49m\n\u001b[1;32m      6\u001b[0m \u001b[43m    \u001b[49m\u001b[43mlr\u001b[49m\u001b[38;5;241;43m=\u001b[39;49m\u001b[43mtrain_config\u001b[49m\u001b[38;5;241;43m.\u001b[39;49m\u001b[43mlearning_rate\u001b[49m\u001b[43m,\u001b[49m\n\u001b[1;32m      7\u001b[0m \u001b[43m    \u001b[49m\u001b[43mmax_steps\u001b[49m\u001b[38;5;241;43m=\u001b[39;49m\u001b[43mtrain_config\u001b[49m\u001b[38;5;241;43m.\u001b[39;49m\u001b[43mmax_steps\u001b[49m\u001b[43m,\u001b[49m\n\u001b[1;32m      8\u001b[0m \u001b[43m    \u001b[49m\u001b[43mweight_decay\u001b[49m\u001b[38;5;241;43m=\u001b[39;49m\u001b[43mtrain_config\u001b[49m\u001b[38;5;241;43m.\u001b[39;49m\u001b[43mweight_decay\u001b[49m\u001b[43m,\u001b[49m\n\u001b[1;32m      9\u001b[0m \u001b[43m    \u001b[49m\u001b[43mlog_every\u001b[49m\u001b[38;5;241;43m=\u001b[39;49m\u001b[43mtrain_config\u001b[49m\u001b[38;5;241;43m.\u001b[39;49m\u001b[43mlog_frequency\u001b[49m\u001b[43m,\u001b[49m\n\u001b[1;32m     10\u001b[0m \u001b[43m)\u001b[49m\n",
      "File \u001b[0;32m~/Tuhin/LLM2_Updated/LLM2/helpers/trainer.py:48\u001b[0m, in \u001b[0;36mtrain\u001b[0;34m(model, ds_train, device, batch_size, lr, max_steps, weight_decay, log_every)\u001b[0m\n\u001b[1;32m     45\u001b[0m logits \u001b[38;5;241m=\u001b[39m model(inputs)\n\u001b[1;32m     47\u001b[0m loss \u001b[38;5;241m=\u001b[39m F\u001b[38;5;241m.\u001b[39mcross_entropy(logits\u001b[38;5;241m.\u001b[39mview(\u001b[38;5;241m-\u001b[39m\u001b[38;5;241m1\u001b[39m, logits\u001b[38;5;241m.\u001b[39msize(\u001b[38;5;241m-\u001b[39m\u001b[38;5;241m1\u001b[39m)), labels\u001b[38;5;241m.\u001b[39mview(\u001b[38;5;241m-\u001b[39m\u001b[38;5;241m1\u001b[39m), ignore_index\u001b[38;5;241m=\u001b[39m\u001b[38;5;241m-\u001b[39m\u001b[38;5;241m1\u001b[39m)\n\u001b[0;32m---> 48\u001b[0m \u001b[43mloss\u001b[49m\u001b[38;5;241;43m.\u001b[39;49m\u001b[43mbackward\u001b[49m\u001b[43m(\u001b[49m\u001b[43m)\u001b[49m\n\u001b[1;32m     50\u001b[0m optimizer\u001b[38;5;241m.\u001b[39mstep()\n\u001b[1;32m     51\u001b[0m scheduler\u001b[38;5;241m.\u001b[39mstep()\n",
      "File \u001b[0;32m~/.local/lib/python3.10/site-packages/torch/_tensor.py:581\u001b[0m, in \u001b[0;36mTensor.backward\u001b[0;34m(self, gradient, retain_graph, create_graph, inputs)\u001b[0m\n\u001b[1;32m    571\u001b[0m \u001b[38;5;28;01mif\u001b[39;00m has_torch_function_unary(\u001b[38;5;28mself\u001b[39m):\n\u001b[1;32m    572\u001b[0m     \u001b[38;5;28;01mreturn\u001b[39;00m handle_torch_function(\n\u001b[1;32m    573\u001b[0m         Tensor\u001b[38;5;241m.\u001b[39mbackward,\n\u001b[1;32m    574\u001b[0m         (\u001b[38;5;28mself\u001b[39m,),\n\u001b[0;32m   (...)\u001b[0m\n\u001b[1;32m    579\u001b[0m         inputs\u001b[38;5;241m=\u001b[39minputs,\n\u001b[1;32m    580\u001b[0m     )\n\u001b[0;32m--> 581\u001b[0m \u001b[43mtorch\u001b[49m\u001b[38;5;241;43m.\u001b[39;49m\u001b[43mautograd\u001b[49m\u001b[38;5;241;43m.\u001b[39;49m\u001b[43mbackward\u001b[49m\u001b[43m(\u001b[49m\n\u001b[1;32m    582\u001b[0m \u001b[43m    \u001b[49m\u001b[38;5;28;43mself\u001b[39;49m\u001b[43m,\u001b[49m\u001b[43m \u001b[49m\u001b[43mgradient\u001b[49m\u001b[43m,\u001b[49m\u001b[43m \u001b[49m\u001b[43mretain_graph\u001b[49m\u001b[43m,\u001b[49m\u001b[43m \u001b[49m\u001b[43mcreate_graph\u001b[49m\u001b[43m,\u001b[49m\u001b[43m \u001b[49m\u001b[43minputs\u001b[49m\u001b[38;5;241;43m=\u001b[39;49m\u001b[43minputs\u001b[49m\n\u001b[1;32m    583\u001b[0m \u001b[43m\u001b[49m\u001b[43m)\u001b[49m\n",
      "File \u001b[0;32m~/.local/lib/python3.10/site-packages/torch/autograd/__init__.py:347\u001b[0m, in \u001b[0;36mbackward\u001b[0;34m(tensors, grad_tensors, retain_graph, create_graph, grad_variables, inputs)\u001b[0m\n\u001b[1;32m    342\u001b[0m     retain_graph \u001b[38;5;241m=\u001b[39m create_graph\n\u001b[1;32m    344\u001b[0m \u001b[38;5;66;03m# The reason we repeat the same comment below is that\u001b[39;00m\n\u001b[1;32m    345\u001b[0m \u001b[38;5;66;03m# some Python versions print out the first line of a multi-line function\u001b[39;00m\n\u001b[1;32m    346\u001b[0m \u001b[38;5;66;03m# calls in the traceback and some print out the last line\u001b[39;00m\n\u001b[0;32m--> 347\u001b[0m \u001b[43m_engine_run_backward\u001b[49m\u001b[43m(\u001b[49m\n\u001b[1;32m    348\u001b[0m \u001b[43m    \u001b[49m\u001b[43mtensors\u001b[49m\u001b[43m,\u001b[49m\n\u001b[1;32m    349\u001b[0m \u001b[43m    \u001b[49m\u001b[43mgrad_tensors_\u001b[49m\u001b[43m,\u001b[49m\n\u001b[1;32m    350\u001b[0m \u001b[43m    \u001b[49m\u001b[43mretain_graph\u001b[49m\u001b[43m,\u001b[49m\n\u001b[1;32m    351\u001b[0m \u001b[43m    \u001b[49m\u001b[43mcreate_graph\u001b[49m\u001b[43m,\u001b[49m\n\u001b[1;32m    352\u001b[0m \u001b[43m    \u001b[49m\u001b[43minputs\u001b[49m\u001b[43m,\u001b[49m\n\u001b[1;32m    353\u001b[0m \u001b[43m    \u001b[49m\u001b[43mallow_unreachable\u001b[49m\u001b[38;5;241;43m=\u001b[39;49m\u001b[38;5;28;43;01mTrue\u001b[39;49;00m\u001b[43m,\u001b[49m\n\u001b[1;32m    354\u001b[0m \u001b[43m    \u001b[49m\u001b[43maccumulate_grad\u001b[49m\u001b[38;5;241;43m=\u001b[39;49m\u001b[38;5;28;43;01mTrue\u001b[39;49;00m\u001b[43m,\u001b[49m\n\u001b[1;32m    355\u001b[0m \u001b[43m\u001b[49m\u001b[43m)\u001b[49m\n",
      "File \u001b[0;32m~/.local/lib/python3.10/site-packages/torch/autograd/graph.py:825\u001b[0m, in \u001b[0;36m_engine_run_backward\u001b[0;34m(t_outputs, *args, **kwargs)\u001b[0m\n\u001b[1;32m    823\u001b[0m     unregister_hooks \u001b[38;5;241m=\u001b[39m _register_logging_hooks_on_whole_graph(t_outputs)\n\u001b[1;32m    824\u001b[0m \u001b[38;5;28;01mtry\u001b[39;00m:\n\u001b[0;32m--> 825\u001b[0m     \u001b[38;5;28;01mreturn\u001b[39;00m \u001b[43mVariable\u001b[49m\u001b[38;5;241;43m.\u001b[39;49m\u001b[43m_execution_engine\u001b[49m\u001b[38;5;241;43m.\u001b[39;49m\u001b[43mrun_backward\u001b[49m\u001b[43m(\u001b[49m\u001b[43m  \u001b[49m\u001b[38;5;66;43;03m# Calls into the C++ engine to run the backward pass\u001b[39;49;00m\n\u001b[1;32m    826\u001b[0m \u001b[43m        \u001b[49m\u001b[43mt_outputs\u001b[49m\u001b[43m,\u001b[49m\u001b[43m \u001b[49m\u001b[38;5;241;43m*\u001b[39;49m\u001b[43margs\u001b[49m\u001b[43m,\u001b[49m\u001b[43m \u001b[49m\u001b[38;5;241;43m*\u001b[39;49m\u001b[38;5;241;43m*\u001b[39;49m\u001b[43mkwargs\u001b[49m\n\u001b[1;32m    827\u001b[0m \u001b[43m    \u001b[49m\u001b[43m)\u001b[49m  \u001b[38;5;66;03m# Calls into the C++ engine to run the backward pass\u001b[39;00m\n\u001b[1;32m    828\u001b[0m \u001b[38;5;28;01mfinally\u001b[39;00m:\n\u001b[1;32m    829\u001b[0m     \u001b[38;5;28;01mif\u001b[39;00m attach_logging_hooks:\n",
      "\u001b[0;31mKeyboardInterrupt\u001b[0m: "
     ]
    }
   ],
   "source": [
    "loss_history = train(\n",
    "    model,\n",
    "    ds_train,\n",
    "    train_config.device,\n",
    "    batch_size=train_config.batch_size,\n",
    "    lr=train_config.learning_rate,\n",
    "    max_steps=train_config.max_steps,\n",
    "    weight_decay=train_config.weight_decay,\n",
    "    log_every=train_config.log_frequency,\n",
    ")"
   ]
  },
  {
   "cell_type": "code",
   "execution_count": 19,
   "metadata": {},
   "outputs": [
    {
     "data": {
      "image/png": "[encoded data removed]",
      "text/plain": [
       "<Figure size 1200x400 with 1 Axes>"
      ]
     },
     "metadata": {},
     "output_type": "display_data"
    }
   ],
   "source": [
    "fig, ax = plt.subplots(figsize=(12, 4))\n",
    "ax.plot(range(len(loss_history[\"train_loss\"])), loss_history[\"train_loss\"])\n",
    "ax.set_xlabel(\"step\")\n",
    "ax.set_ylabel(\"cross entropy loss\")\n",
    "ax.grid(axis=\"y\")"
   ]
  },
  {
   "cell_type": "markdown",
   "metadata": {},
   "source": [
    "# Play around\n"
   ]
  },
  {
   "cell_type": "code",
   "execution_count": 20,
   "metadata": {},
   "outputs": [
    {
     "data": {
      "text/plain": [
       "'due to his obligededed him near down disfigured. Like a demon army with her radiance, bent both the hands of Rama and Lakshmana cut eyes'"
      ]
     },
     "execution_count": 20,
     "metadata": {},
     "output_type": "execute_result"
    }
   ],
   "source": [
    "prompt = torch.full((1, llm_config.context_size), tokenizer.pad_id, dtype=torch.int32).to(train_config.device)\n",
    "out = model.generate(prompt, max_seq_len=30)\n",
    "tokenizer.decode(out)"
   ]
  },
  {
   "cell_type": "code",
   "execution_count": 21,
   "metadata": {},
   "outputs": [
    {
     "name": "stdout",
     "output_type": "stream",
     "text": [
      "\n",
      "\n"
     ]
    },
    {
     "data": {
      "text/plain": [
       "'Kaikeyi is one of the three queens of arms. If he Lanka on the words of her abductioned which he reached a sage mouth. The demon transformed him, a whizcloud filling the sky and the earth and produced the arrows of a sea. Then the Ravana fully in his guise of a kshatriya hold of great speed. With his sylvan ny speed itsulressed with dark twangining with Rama, pray burned with. They then emer aloud by misfortune.इत्यार्षे श्रीमद्रामायणे वाल्मीकीय'"
      ]
     },
     "execution_count": 21,
     "metadata": {},
     "output_type": "execute_result"
    }
   ],
   "source": [
    "# generate from a prompt\n",
    "prompt = (\n",
    "    tokenizer.encode(\n",
    "        \"Kaikeyi is one of the three queens\",\n",
    "        beg_of_string=True,\n",
    "        pad_seq=True,\n",
    "        seq_len=llm_config.context_size,\n",
    "    )\n",
    "    .view(1, -1)\n",
    "    .to(train_config.device)\n",
    ")\n",
    "out = model.generate(prompt, max_seq_len=90)\n",
    "print(\"\\n\")\n",
    "tokenizer.decode(out)"
   ]
  },
  {
   "cell_type": "code",
   "execution_count": 22,
   "metadata": {},
   "outputs": [
    {
     "name": "stdout",
     "output_type": "stream",
     "text": [
      "\n",
      "\n"
     ]
    },
    {
     "data": {
      "text/plain": [
       "'Kaikeyi is one of the three queens of her angry. These bow at the time demon, be on his shoulders and golden body started : The demon Maricha, his arms, put down with blood, he gave down the ground and, sharp shoulders and smiling at bewilderedught and shaking the chariot and said : Thereafter Jatayu thus seated, engrossed and feet with both his brother and hit the armour of Ravana who came forward to crush the army of Khara and met Lakshmana for his immense body and also the'"
      ]
     },
     "execution_count": 22,
     "metadata": {},
     "output_type": "execute_result"
    }
   ],
   "source": [
    "# generate from a prompt\n",
    "prompt = (\n",
    "    tokenizer.encode(\n",
    "        \"Kaikeyi is one of the three queens\",\n",
    "        beg_of_string=True,\n",
    "        pad_seq=True,\n",
    "        seq_len=llm_config.context_size,\n",
    "    )\n",
    "    .view(1, -1)\n",
    "    .to(train_config.device)\n",
    ")\n",
    "out = model.generate(prompt, max_seq_len=90)\n",
    "print(\"\\n\")\n",
    "tokenizer.decode(out)"
   ]
  },
  {
   "cell_type": "code",
   "execution_count": 28,
   "metadata": {},
   "outputs": [
    {
     "name": "stdout",
     "output_type": "stream",
     "text": [
      "\n",
      "\n"
     ]
    },
    {
     "data": {
      "text/plain": [
       "\"Who is Rama?: Where could I could delightful sylvan eye at your arms. (Ad demon Ravana) like whom I wandered down like fire which I have come here. I could not think her tears these deer without Sita who deserting his death out of love without fear in the wellbeing of his own abduction. This lord of Lanka along with Sita, princess of Mithila, the demon king of demons, commanded by my prowess, Rama's beloved captivcid he\""
      ]
     },
     "execution_count": 28,
     "metadata": {},
     "output_type": "execute_result"
    }
   ],
   "source": [
    "# generate from a prompt\n",
    "prompt = (\n",
    "    tokenizer.encode(\n",
    "        \"Who is Rama?\",\n",
    "        beg_of_string=True,\n",
    "        pad_seq=True,\n",
    "        seq_len=llm_config.context_size,\n",
    "    )\n",
    "    .view(1, -1)\n",
    "    .to(train_config.device)\n",
    ")\n",
    "out = model.generate(prompt, max_seq_len=90)\n",
    "print(\"\\n\")\n",
    "tokenizer.decode(out)"
   ]
  },
  {
   "cell_type": "code",
   "execution_count": null,
   "metadata": {},
   "outputs": [],
   "source": []
  }
 ],
 "metadata": {
  "kernelspec": {
   "display_name": "scratch-llm",
   "language": "python",
   "name": "python3"
  },
  "language_info": {
   "codemirror_mode": {
    "name": "ipython",
    "version": 3
   },
   "file_extension": ".py",
   "mimetype": "text/x-python",
   "name": "python",
   "nbconvert_exporter": "python",
   "pygments_lexer": "ipython3",
   "version": "3.10.12"
  },
  "orig_nbformat": 4
 },
 "nbformat": 4,
 "nbformat_minor": 2
}
